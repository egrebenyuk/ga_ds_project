{
 "cells": [
  {
   "cell_type": "markdown",
   "metadata": {},
   "source": [
    "# Kaggle datasets for [Santander Customer Satisfaction](https://www.kaggle.com/c/santander-customer-satisfaction) research"
   ]
  },
  {
   "cell_type": "code",
   "execution_count": 12,
   "metadata": {
    "collapsed": true
   },
   "outputs": [],
   "source": [
    "import pandas as pd"
   ]
  },
  {
   "cell_type": "markdown",
   "metadata": {},
   "source": [
    "## Train dataset"
   ]
  },
  {
   "cell_type": "code",
   "execution_count": 13,
   "metadata": {
    "collapsed": false
   },
   "outputs": [
    {
     "name": "stdout",
     "output_type": "stream",
     "text": [
      "   ID  var3  var15  imp_ent_var16_ult1  imp_op_var39_comer_ult1  \\\n",
      "0   1     2     23                   0                        0   \n",
      "1   3     2     34                   0                        0   \n",
      "2   4     2     23                   0                        0   \n",
      "3   8     2     37                   0                      195   \n",
      "4  10     2     39                   0                        0   \n",
      "\n",
      "   imp_op_var39_comer_ult3  imp_op_var40_comer_ult1  imp_op_var40_comer_ult3  \\\n",
      "0                        0                        0                        0   \n",
      "1                        0                        0                        0   \n",
      "2                        0                        0                        0   \n",
      "3                      195                        0                        0   \n",
      "4                        0                        0                        0   \n",
      "\n",
      "   imp_op_var40_efect_ult1  imp_op_var40_efect_ult3   ...    \\\n",
      "0                        0                        0   ...     \n",
      "1                        0                        0   ...     \n",
      "2                        0                        0   ...     \n",
      "3                        0                        0   ...     \n",
      "4                        0                        0   ...     \n",
      "\n",
      "   saldo_medio_var33_hace2  saldo_medio_var33_hace3  saldo_medio_var33_ult1  \\\n",
      "0                        0                        0                       0   \n",
      "1                        0                        0                       0   \n",
      "2                        0                        0                       0   \n",
      "3                        0                        0                       0   \n",
      "4                        0                        0                       0   \n",
      "\n",
      "   saldo_medio_var33_ult3  saldo_medio_var44_hace2  saldo_medio_var44_hace3  \\\n",
      "0                       0                        0                        0   \n",
      "1                       0                        0                        0   \n",
      "2                       0                        0                        0   \n",
      "3                       0                        0                        0   \n",
      "4                       0                        0                        0   \n",
      "\n",
      "   saldo_medio_var44_ult1  saldo_medio_var44_ult3          var38  TARGET  \n",
      "0                       0                       0   39205.170000       0  \n",
      "1                       0                       0   49278.030000       0  \n",
      "2                       0                       0   67333.770000       0  \n",
      "3                       0                       0   64007.970000       0  \n",
      "4                       0                       0  117310.979016       0  \n",
      "\n",
      "[5 rows x 371 columns]\n"
     ]
    }
   ],
   "source": [
    "df_train = pd.read_csv(\"data/train.csv\")\n",
    "print df_train.head()"
   ]
  },
  {
   "cell_type": "code",
   "execution_count": 14,
   "metadata": {
    "collapsed": false
   },
   "outputs": [
    {
     "name": "stdout",
     "output_type": "stream",
     "text": [
      "<class 'pandas.core.frame.DataFrame'>\n",
      "Int64Index: 76020 entries, 0 to 76019\n",
      "Columns: 371 entries, ID to TARGET\n",
      "dtypes: float64(111), int64(260)\n",
      "memory usage: 215.8 MB\n"
     ]
    }
   ],
   "source": [
    "df_train.info()"
   ]
  },
  {
   "cell_type": "markdown",
   "metadata": {},
   "source": [
    "## Test dataset"
   ]
  },
  {
   "cell_type": "code",
   "execution_count": 15,
   "metadata": {
    "collapsed": false
   },
   "outputs": [
    {
     "name": "stdout",
     "output_type": "stream",
     "text": [
      "   ID  var3  var15  imp_ent_var16_ult1  imp_op_var39_comer_ult1  \\\n",
      "0   2     2     32                   0                        0   \n",
      "1   5     2     35                   0                        0   \n",
      "2   6     2     23                   0                        0   \n",
      "3   7     2     24                   0                        0   \n",
      "4   9     2     23                   0                        0   \n",
      "\n",
      "   imp_op_var39_comer_ult3  imp_op_var40_comer_ult1  imp_op_var40_comer_ult3  \\\n",
      "0                        0                        0                        0   \n",
      "1                        0                        0                        0   \n",
      "2                        0                        0                        0   \n",
      "3                        0                        0                        0   \n",
      "4                        0                        0                        0   \n",
      "\n",
      "   imp_op_var40_efect_ult1  imp_op_var40_efect_ult3    ...      \\\n",
      "0                        0                        0    ...       \n",
      "1                        0                        0    ...       \n",
      "2                        0                        0    ...       \n",
      "3                        0                        0    ...       \n",
      "4                        0                        0    ...       \n",
      "\n",
      "   saldo_medio_var29_ult3  saldo_medio_var33_hace2  saldo_medio_var33_hace3  \\\n",
      "0                       0                        0                        0   \n",
      "1                       0                        0                        0   \n",
      "2                       0                        0                        0   \n",
      "3                       0                        0                        0   \n",
      "4                       0                        0                        0   \n",
      "\n",
      "   saldo_medio_var33_ult1  saldo_medio_var33_ult3  saldo_medio_var44_hace2  \\\n",
      "0                       0                       0                        0   \n",
      "1                       0                       0                        0   \n",
      "2                       0                       0                        0   \n",
      "3                       0                       0                        0   \n",
      "4                       0                       0                        0   \n",
      "\n",
      "   saldo_medio_var44_hace3  saldo_medio_var44_ult1  saldo_medio_var44_ult3  \\\n",
      "0                        0                       0                       0   \n",
      "1                        0                       0                       0   \n",
      "2                        0                       0                       0   \n",
      "3                        0                       0                       0   \n",
      "4                        0                       0                       0   \n",
      "\n",
      "       var38  \n",
      "0   40532.10  \n",
      "1   45486.72  \n",
      "2   46993.95  \n",
      "3  187898.61  \n",
      "4   73649.73  \n",
      "\n",
      "[5 rows x 370 columns]\n"
     ]
    }
   ],
   "source": [
    "df_test = pd.read_csv(\"data/test.csv\")\n",
    "print df_test.head()"
   ]
  },
  {
   "cell_type": "code",
   "execution_count": 16,
   "metadata": {
    "collapsed": false
   },
   "outputs": [
    {
     "name": "stdout",
     "output_type": "stream",
     "text": [
      "<class 'pandas.core.frame.DataFrame'>\n",
      "Int64Index: 75818 entries, 0 to 75817\n",
      "Columns: 370 entries, ID to var38\n",
      "dtypes: float64(110), int64(260)\n",
      "memory usage: 214.6 MB\n"
     ]
    }
   ],
   "source": [
    "df_test.info()"
   ]
  },
  {
   "cell_type": "code",
   "execution_count": null,
   "metadata": {
    "collapsed": true
   },
   "outputs": [],
   "source": []
  }
 ],
 "metadata": {
  "kernelspec": {
   "display_name": "Python 2",
   "language": "python",
   "name": "python2"
  },
  "language_info": {
   "codemirror_mode": {
    "name": "ipython",
    "version": 2
   },
   "file_extension": ".py",
   "mimetype": "text/x-python",
   "name": "python",
   "nbconvert_exporter": "python",
   "pygments_lexer": "ipython2",
   "version": "2.7.11"
  }
 },
 "nbformat": 4,
 "nbformat_minor": 0
}
